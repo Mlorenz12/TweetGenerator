{
 "cells": [
  {
   "cell_type": "markdown",
   "metadata": {},
   "source": [
    "## Beschreibung:\n",
    "Notebook wird verwendet um die von Harvard Dataverse unter https://dataverse.harvard.edu/dataset.xhtml?persistentId=doi:10.7910/DVN/KJEBIL bereitgestellten Daten zu kürzen und in ein .json Format zu übertragen (Daten liegen bei Download als .ndjson Datei vor, die in Google Colab nicht gut eingelesen werden kann). <br>\n",
    "Daten werden gekürzt, da für den vorliegenden Use-Case nur der reine Text benötigt wird, somit können Dimensionen wie der Zeitstempel, user, source etc. entfernt werden. "
   ]
  },
  {
   "cell_type": "code",
   "execution_count": 3,
   "metadata": {},
   "outputs": [],
   "source": [
    "import pandas as pd\n",
    "import numpy as np \n",
    "import json\n",
    "from os import listdir\n",
    "from os.path import isfile, join"
   ]
  },
  {
   "cell_type": "markdown",
   "metadata": {},
   "source": [
    "### Einlesen von Trump Tweets"
   ]
  },
  {
   "cell_type": "code",
   "execution_count": 4,
   "metadata": {},
   "outputs": [
    {
     "name": "stdout",
     "output_type": "stream",
     "text": [
      "Anzahl Tweets: 40241\n"
     ]
    }
   ],
   "source": [
    "tweets = []#liste für alle tweets\n",
    "for line in open('trump.ndjson', 'r', encoding=\"utf8\"):#einlesen jedes einzelnen tweets \n",
    "    tweets.append(json.loads(line))#umwandeln des json strings in ein dictionary und hinzufügen zu liste\n",
    "print('Anzahl Tweets: {}'.format(len(tweets)))"
   ]
  },
  {
   "cell_type": "code",
   "execution_count": 5,
   "metadata": {},
   "outputs": [
    {
     "name": "stdout",
     "output_type": "stream",
     "text": [
      "Alle Dimensionen die für die Tweets vorhanden sind:\n",
      "dict_keys(['contributors', 'coordinates', 'created_at', 'entities', 'favorite_count', 'favorited', 'geo', 'id', 'id_str', 'in_reply_to_screen_name', 'in_reply_to_status_id', 'in_reply_to_status_id_str', 'in_reply_to_user_id', 'in_reply_to_user_id_str', 'is_quote_status', 'lang', 'place', 'retrieved_utc', 'retweet_count', 'retweeted', 'source', 'text', 'truncated', 'user'])\n"
     ]
    }
   ],
   "source": [
    "print('Alle Dimensionen die für die Tweets vorhanden sind:\\n{}'.format(tweets[0].keys()))"
   ]
  },
  {
   "cell_type": "markdown",
   "metadata": {},
   "source": [
    "### Abspeichern der Tweets als .json Datei\n",
    "Tweets werden als Dictionary in einem einzelnen Dictionary abgespeichert, da die Handhabung mit Dictionaries einfacher ist, als Dictionaries aus einer Liste auszulesen."
   ]
  },
  {
   "cell_type": "code",
   "execution_count": 10,
   "metadata": {},
   "outputs": [],
   "source": [
    "data = {}#tweets werden als dictionaries in dem dictionary data abgespeichert\n",
    "for tweet in tweets:\n",
    "    id_ = tweet['id']#id der tweets verweist in dict data auf die einzelnen tweets\n",
    "    data[id_] = tweet['text']\n",
    "\n",
    "with open(\"trump.json\", \"w+\") as write_file:\n",
    "    json.dump(data, write_file)"
   ]
  },
  {
   "cell_type": "code",
   "execution_count": 14,
   "metadata": {
    "scrolled": false
   },
   "outputs": [
    {
     "name": "stdout",
     "output_type": "stream",
     "text": [
      "Be sure to tune in and watch Donald Trump on Late Night with David Letterman as he presents the Top Ten List tonight! \n",
      "\n",
      "Donald Trump will be appearing on The View tomorrow morning to discuss Celebrity Apprentice and his new book Think Like A Champion! \n",
      "\n",
      "Donald Trump reads Top Ten Financial Tips on Late Show with David Letterman: http://tinyurl.com/ooafwn - Very funny! \n",
      "\n",
      "New Blog Post: Celebrity Apprentice Finale and Lessons Learned Along the Way: http://tinyurl.com/qlux5e \n",
      "\n",
      "\"My persona will never be that of a wallflower - I’d rather build walls than cling to them\" --Donald J. Trump \n",
      "\n",
      "Miss USA Tara Conner will not be fired - \"I've always been a believer in second chances.\" says Donald Trump \n",
      "\n",
      "Listen to an interview with Donald Trump discussing his new book, Think Like A Champion: http://tinyurl.com/qs24vl \n",
      "\n",
      "\"Strive for wholeness and keep your sense of wonder intact.\" --Donald J. Trump http://tinyurl.com/pqpfvm \n",
      "\n",
      "Enter the \"Think Like A Champion\" signed book and keychain contest:\n",
      "http://www.trumpthinklikeachampion.com/contest/ \n",
      "\n",
      "\"When the achiever achieves, it's not a plateau, it’s a beginning.\" --Donald J. Trump http://tinyurl.com/pqpfvm \n",
      "\n"
     ]
    }
   ],
   "source": [
    "c = 0\n",
    "for tweet in tweets:\n",
    "    print(tweet['text'], '\\n')\n",
    "    c += 1\n",
    "    if c == 10:\n",
    "        break"
   ]
  },
  {
   "cell_type": "code",
   "execution_count": null,
   "metadata": {},
   "outputs": [],
   "source": []
  }
 ],
 "metadata": {
  "kernelspec": {
   "display_name": "Python 3.7.5 64-bit",
   "language": "python",
   "name": "python37564bit93c371b70f764628a3a26b73a23e118b"
  },
  "language_info": {
   "codemirror_mode": {
    "name": "ipython",
    "version": 3
   },
   "file_extension": ".py",
   "mimetype": "text/x-python",
   "name": "python",
   "nbconvert_exporter": "python",
   "pygments_lexer": "ipython3",
   "version": "3.7.5"
  }
 },
 "nbformat": 4,
 "nbformat_minor": 2
}
