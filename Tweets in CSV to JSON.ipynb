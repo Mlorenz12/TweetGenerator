{
 "cells": [
  {
   "cell_type": "code",
   "execution_count": 1,
   "metadata": {},
   "outputs": [],
   "source": [
    "import pandas as pd \n",
    "import json\n",
    "import numpy as np\n",
    "import string"
   ]
  },
  {
   "cell_type": "code",
   "execution_count": 2,
   "metadata": {},
   "outputs": [],
   "source": [
    "bef = pd.read_csv('before.csv',sep = ' ')#error_bad_lines=False)\n",
    "aft = pd.read_csv('after.csv', sep = ' ')#error_bad_lines=False)"
   ]
  },
  {
   "cell_type": "code",
   "execution_count": 3,
   "metadata": {},
   "outputs": [
    {
     "data": {
      "text/plain": [
       "Series([], Name: Text, dtype: float64)"
      ]
     },
     "execution_count": 3,
     "metadata": {},
     "output_type": "execute_result"
    }
   ],
   "source": [
    "bef.Text.dropna(how = 'any')"
   ]
  },
  {
   "cell_type": "code",
   "execution_count": 4,
   "metadata": {},
   "outputs": [
    {
     "data": {
      "text/plain": [
       "Series([], Name: Text, dtype: float64)"
      ]
     },
     "execution_count": 4,
     "metadata": {},
     "output_type": "execute_result"
    }
   ],
   "source": [
    "aft.Text.dropna(how = 'any')"
   ]
  },
  {
   "cell_type": "code",
   "execution_count": 5,
   "metadata": {},
   "outputs": [
    {
     "data": {
      "text/plain": [
       "'Be sure to tune in and watch Donald Trump on Late Night with David Letterman as he presents the Top Ten List tonight!'"
      ]
     },
     "execution_count": 5,
     "metadata": {},
     "output_type": "execute_result"
    }
   ],
   "source": [
    "bef['Tweet.1'][0]"
   ]
  },
  {
   "cell_type": "code",
   "execution_count": 6,
   "metadata": {},
   "outputs": [
    {
     "data": {
      "text/plain": [
       "ID,         object\n",
       "Time,       object\n",
       "Tweet       object\n",
       "URL,        object\n",
       "Tweet.1     object\n",
       "Text       float64\n",
       "dtype: object"
      ]
     },
     "execution_count": 6,
     "metadata": {},
     "output_type": "execute_result"
    }
   ],
   "source": [
    "bef.dtypes"
   ]
  },
  {
   "cell_type": "code",
   "execution_count": 7,
   "metadata": {},
   "outputs": [
    {
     "data": {
      "text/plain": [
       "0        13:54,\n",
       "1        20:00,\n",
       "2        08:38,\n",
       "3        15:40,\n",
       "4        09:07,\n",
       "          ...  \n",
       "31244    14:13,\n",
       "31245    14:18,\n",
       "31246    14:21,\n",
       "31247    18:40,\n",
       "31248    22:24,\n",
       "Name: Tweet, Length: 31249, dtype: object"
      ]
     },
     "execution_count": 7,
     "metadata": {},
     "output_type": "execute_result"
    }
   ],
   "source": [
    "bef.Tweet"
   ]
  },
  {
   "cell_type": "code",
   "execution_count": 8,
   "metadata": {},
   "outputs": [
    {
     "data": {
      "text/html": [
       "<div>\n",
       "<style scoped>\n",
       "    .dataframe tbody tr th:only-of-type {\n",
       "        vertical-align: middle;\n",
       "    }\n",
       "\n",
       "    .dataframe tbody tr th {\n",
       "        vertical-align: top;\n",
       "    }\n",
       "\n",
       "    .dataframe thead th {\n",
       "        text-align: right;\n",
       "    }\n",
       "</style>\n",
       "<table border=\"1\" class=\"dataframe\">\n",
       "  <thead>\n",
       "    <tr style=\"text-align: right;\">\n",
       "      <th></th>\n",
       "      <th>ID,</th>\n",
       "      <th>Time,</th>\n",
       "      <th>Tweet</th>\n",
       "      <th>URL,</th>\n",
       "      <th>Tweet.1</th>\n",
       "      <th>Text</th>\n",
       "    </tr>\n",
       "  </thead>\n",
       "  <tbody>\n",
       "    <tr>\n",
       "      <th>0</th>\n",
       "      <td>@realDonaldTrump,</td>\n",
       "      <td>2009-05-04</td>\n",
       "      <td>13:54,</td>\n",
       "      <td>https://twitter.com/realDonaldTrump/status/169...</td>\n",
       "      <td>Be sure to tune in and watch Donald Trump on L...</td>\n",
       "      <td>NaN</td>\n",
       "    </tr>\n",
       "    <tr>\n",
       "      <th>1</th>\n",
       "      <td>@realDonaldTrump,</td>\n",
       "      <td>2009-05-04</td>\n",
       "      <td>20:00,</td>\n",
       "      <td>https://twitter.com/realDonaldTrump/status/170...</td>\n",
       "      <td>Donald Trump will be appearing on The View tom...</td>\n",
       "      <td>NaN</td>\n",
       "    </tr>\n",
       "    <tr>\n",
       "      <th>2</th>\n",
       "      <td>@realDonaldTrump,</td>\n",
       "      <td>2009-05-08</td>\n",
       "      <td>08:38,</td>\n",
       "      <td>https://twitter.com/realDonaldTrump/status/173...</td>\n",
       "      <td>Donald Trump reads Top Ten Financial Tips on L...</td>\n",
       "      <td>NaN</td>\n",
       "    </tr>\n",
       "    <tr>\n",
       "      <th>3</th>\n",
       "      <td>@realDonaldTrump,</td>\n",
       "      <td>2009-05-08</td>\n",
       "      <td>15:40,</td>\n",
       "      <td>https://twitter.com/realDonaldTrump/status/174...</td>\n",
       "      <td>New Blog Post: Celebrity Apprentice Finale and...</td>\n",
       "      <td>NaN</td>\n",
       "    </tr>\n",
       "    <tr>\n",
       "      <th>4</th>\n",
       "      <td>@realDonaldTrump,</td>\n",
       "      <td>2009-05-12</td>\n",
       "      <td>09:07,</td>\n",
       "      <td>https://twitter.com/realDonaldTrump/status/177...</td>\n",
       "      <td>'My persona will never be that of a wallflower...</td>\n",
       "      <td>NaN</td>\n",
       "    </tr>\n",
       "    <tr>\n",
       "      <th>...</th>\n",
       "      <td>...</td>\n",
       "      <td>...</td>\n",
       "      <td>...</td>\n",
       "      <td>...</td>\n",
       "      <td>...</td>\n",
       "      <td>...</td>\n",
       "    </tr>\n",
       "    <tr>\n",
       "      <th>31244</th>\n",
       "      <td>@realDonaldTrump,</td>\n",
       "      <td>2017-01-19</td>\n",
       "      <td>14:13,</td>\n",
       "      <td>https://twitter.com/realDonaldTrump/status/822...</td>\n",
       "      <td>On my way! # Inauguration2017https://twitter.c...</td>\n",
       "      <td>NaN</td>\n",
       "    </tr>\n",
       "    <tr>\n",
       "      <th>31245</th>\n",
       "      <td>@realDonaldTrump,</td>\n",
       "      <td>2017-01-19</td>\n",
       "      <td>14:18,</td>\n",
       "      <td>https://twitter.com/realDonaldTrump/status/822...</td>\n",
       "      <td>Great Concert at 4:00 P.M. today at Lincoln Me...</td>\n",
       "      <td>NaN</td>\n",
       "    </tr>\n",
       "    <tr>\n",
       "      <th>31246</th>\n",
       "      <td>@realDonaldTrump,</td>\n",
       "      <td>2017-01-19</td>\n",
       "      <td>14:21,</td>\n",
       "      <td>https://twitter.com/realDonaldTrump/status/822...</td>\n",
       "      <td>Join me at 4pm over at the Lincoln Memorial wi...</td>\n",
       "      <td>NaN</td>\n",
       "    </tr>\n",
       "    <tr>\n",
       "      <th>31247</th>\n",
       "      <td>@realDonaldTrump,</td>\n",
       "      <td>2017-01-19</td>\n",
       "      <td>18:40,</td>\n",
       "      <td>https://twitter.com/realDonaldTrump/status/822...</td>\n",
       "      <td>Thank you for joining us at the Lincoln Memori...</td>\n",
       "      <td>NaN</td>\n",
       "    </tr>\n",
       "    <tr>\n",
       "      <th>31248</th>\n",
       "      <td>@realDonaldTrump,</td>\n",
       "      <td>2017-01-19</td>\n",
       "      <td>22:24,</td>\n",
       "      <td>https://twitter.com/realDonaldTrump/status/822...</td>\n",
       "      <td>Thank you for a wonderful evening in Washingto...</td>\n",
       "      <td>NaN</td>\n",
       "    </tr>\n",
       "  </tbody>\n",
       "</table>\n",
       "<p>31249 rows × 6 columns</p>\n",
       "</div>"
      ],
      "text/plain": [
       "                     ID,       Time,   Tweet  \\\n",
       "0      @realDonaldTrump,  2009-05-04  13:54,   \n",
       "1      @realDonaldTrump,  2009-05-04  20:00,   \n",
       "2      @realDonaldTrump,  2009-05-08  08:38,   \n",
       "3      @realDonaldTrump,  2009-05-08  15:40,   \n",
       "4      @realDonaldTrump,  2009-05-12  09:07,   \n",
       "...                  ...         ...     ...   \n",
       "31244  @realDonaldTrump,  2017-01-19  14:13,   \n",
       "31245  @realDonaldTrump,  2017-01-19  14:18,   \n",
       "31246  @realDonaldTrump,  2017-01-19  14:21,   \n",
       "31247  @realDonaldTrump,  2017-01-19  18:40,   \n",
       "31248  @realDonaldTrump,  2017-01-19  22:24,   \n",
       "\n",
       "                                                    URL,  \\\n",
       "0      https://twitter.com/realDonaldTrump/status/169...   \n",
       "1      https://twitter.com/realDonaldTrump/status/170...   \n",
       "2      https://twitter.com/realDonaldTrump/status/173...   \n",
       "3      https://twitter.com/realDonaldTrump/status/174...   \n",
       "4      https://twitter.com/realDonaldTrump/status/177...   \n",
       "...                                                  ...   \n",
       "31244  https://twitter.com/realDonaldTrump/status/822...   \n",
       "31245  https://twitter.com/realDonaldTrump/status/822...   \n",
       "31246  https://twitter.com/realDonaldTrump/status/822...   \n",
       "31247  https://twitter.com/realDonaldTrump/status/822...   \n",
       "31248  https://twitter.com/realDonaldTrump/status/822...   \n",
       "\n",
       "                                                 Tweet.1  Text  \n",
       "0      Be sure to tune in and watch Donald Trump on L...   NaN  \n",
       "1      Donald Trump will be appearing on The View tom...   NaN  \n",
       "2      Donald Trump reads Top Ten Financial Tips on L...   NaN  \n",
       "3      New Blog Post: Celebrity Apprentice Finale and...   NaN  \n",
       "4      'My persona will never be that of a wallflower...   NaN  \n",
       "...                                                  ...   ...  \n",
       "31244  On my way! # Inauguration2017https://twitter.c...   NaN  \n",
       "31245  Great Concert at 4:00 P.M. today at Lincoln Me...   NaN  \n",
       "31246  Join me at 4pm over at the Lincoln Memorial wi...   NaN  \n",
       "31247  Thank you for joining us at the Lincoln Memori...   NaN  \n",
       "31248  Thank you for a wonderful evening in Washingto...   NaN  \n",
       "\n",
       "[31249 rows x 6 columns]"
      ]
     },
     "execution_count": 8,
     "metadata": {},
     "output_type": "execute_result"
    }
   ],
   "source": [
    "bef"
   ]
  },
  {
   "cell_type": "code",
   "execution_count": 10,
   "metadata": {},
   "outputs": [
    {
     "name": "stdout",
     "output_type": "stream",
     "text": [
      "54324\n"
     ]
    }
   ],
   "source": [
    "data = {}#tweets werden als dictionaries in dem dictionary data abgespeichert\n",
    "all_words_unique = set()\n",
    "all_words = 0\n",
    "all_links = 0\n",
    "all_links_unique = set()\n",
    "for id_, tweet in enumerate(bef['Tweet.1']):\n",
    "    data[id_] = tweet\n",
    "    tweet_ = tweet.split(' ')\n",
    "    for word in tweet_:\n",
    "        all_words += 1\n",
    "        all_words_unique.add(word)\n",
    "        if 'http' in word:\n",
    "            all_links_unique.add(word)\n",
    "            all_links += 1\n",
    "    \n",
    "for id_2, tweet in enumerate(aft['Tweet.1'], start = id_+1):\n",
    "    data[id_2] = tweet#['text']\n",
    "    tweet_ = tweet.split(' ')\n",
    "    for word in tweet_:\n",
    "        all_words += 1\n",
    "        all_words_unique.add(word)\n",
    "        if 'http' in word:\n",
    "            all_links_unique.add(word)\n",
    "            all_links += 1\n",
    "\n",
    "print(len(data))\n",
    "with open(\"trump.json\", \"w+\") as write_file:\n",
    "    json.dump(data, write_file)"
   ]
  },
  {
   "cell_type": "code",
   "execution_count": 11,
   "metadata": {},
   "outputs": [
    {
     "data": {
      "text/plain": [
       "1187600"
      ]
     },
     "execution_count": 11,
     "metadata": {},
     "output_type": "execute_result"
    }
   ],
   "source": [
    "all_words"
   ]
  },
  {
   "cell_type": "code",
   "execution_count": 12,
   "metadata": {},
   "outputs": [
    {
     "data": {
      "text/plain": [
       "18608"
      ]
     },
     "execution_count": 12,
     "metadata": {},
     "output_type": "execute_result"
    }
   ],
   "source": [
    "all_links"
   ]
  },
  {
   "cell_type": "code",
   "execution_count": 13,
   "metadata": {},
   "outputs": [
    {
     "data": {
      "text/plain": [
       "17546"
      ]
     },
     "execution_count": 13,
     "metadata": {},
     "output_type": "execute_result"
    }
   ],
   "source": [
    "len(all_links_unique)"
   ]
  },
  {
   "cell_type": "code",
   "execution_count": 14,
   "metadata": {},
   "outputs": [
    {
     "data": {
      "text/plain": [
       "126446"
      ]
     },
     "execution_count": 14,
     "metadata": {},
     "output_type": "execute_result"
    }
   ],
   "source": [
    "len(all_words_unique)"
   ]
  },
  {
   "cell_type": "code",
   "execution_count": null,
   "metadata": {},
   "outputs": [],
   "source": []
  }
 ],
 "metadata": {
  "kernelspec": {
   "display_name": "Python 3.7.5 64-bit",
   "language": "python",
   "name": "python37564bit93c371b70f764628a3a26b73a23e118b"
  },
  "language_info": {
   "codemirror_mode": {
    "name": "ipython",
    "version": 3
   },
   "file_extension": ".py",
   "mimetype": "text/x-python",
   "name": "python",
   "nbconvert_exporter": "python",
   "pygments_lexer": "ipython3",
   "version": "3.7.5"
  }
 },
 "nbformat": 4,
 "nbformat_minor": 2
}
